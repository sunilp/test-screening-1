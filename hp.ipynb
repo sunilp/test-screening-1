{
 "cells": [
  {
   "cell_type": "markdown",
   "metadata": {
    "deletable": true,
    "editable": true
   },
   "source": [
    "## Data Definition"
   ]
  },
  {
   "cell_type": "markdown",
   "metadata": {
    "deletable": true,
    "editable": true
   },
   "source": [
    "Match Number – signifies the unique match number given by Cricinfo to match with \t\t        their URL.\n",
    "Over – signifies the ball number. There are six balls in every over with a total of 20\t overs per team.\n",
    "InningsType – binary var .1 signifies Night Match and 2 signifies Day/Night match  \n",
    "Ball Outcome – gives information on the final outcome of this ball. There can be    seven possible outcomes for a ball from 0 to 6.\n",
    "- 0 - also called as ‘Dot Ball’ meaning NO RUNS were scored of this ball.\n",
    "- 1 -\tOne run was scored of this ball\n",
    "- 2 -\tTwo runs were scored of this ball\n",
    "- 3 -\tThree runs were scored of this ball\n",
    "- 4 -\tFour runs were scored of this ball\n",
    "- 5 -\tFive runs were scored of this ball\n",
    "- 6 -\tSix runs were scored of this ball\n",
    "- 8 -  Byes/Leg Byes which counts as extras were scored of this ball\n",
    "- 9 -  Wides were bowled in this ball and hence the ball was repeated\n",
    "- 10 - The batsman got out of this ball.\n",
    "\n",
    "PlayerName_x – the name of the batsman who faced this ball.\n",
    "PlayerTeam_x – the name of the team represented by PlayerName_x\n",
    "PlayerName_y – the name of the bowler who bowled the ball.\n",
    "PlayerTeam_y – the name of the team represented by PlayerName_y.\n",
    "Comments – the commentary data recorded for this ball\n"
   ]
  },
  {
   "cell_type": "markdown",
   "metadata": {},
   "source": [
    "### Questions to answer"
   ]
  },
  {
   "cell_type": "markdown",
   "metadata": {},
   "source": [
    "#### Q1. Comment on the quality of data. Also highlight things that are applicable like missing data points, inconsistent data etc.,\n"
   ]
  },
  {
   "cell_type": "markdown",
   "metadata": {},
   "source": [
    "The data is higly unbalanced, as can be seen from the analysis below for predicting the Ball_Outcome ,\n",
    "- 1     49799\n",
    "- 0     42259\n",
    "- 4     15295\n",
    "- 2      8796\n",
    "- 10     6438\n",
    "- 6      5764\n",
    "- 9      4729\n",
    "- 8      2736\n",
    "- 3       473\n",
    "- 5        42\n",
    "\n",
    "also few records are missing, around 191, for PlayerTeam_x and PlayerTeam_y columns. \n",
    "the data set is inconsistant and also contains column with raw text, which is usually not direct for analysis."
   ]
  },
  {
   "cell_type": "markdown",
   "metadata": {},
   "source": [
    "#### Q2. Describe a way in which you can set up a database for the provided dataset ensuring ACID data properties.\n"
   ]
  },
  {
   "cell_type": "markdown",
   "metadata": {},
   "source": [
    "For relational database, the data could be saved in few tables, the table structure can be like,\n",
    "\n",
    "**Match_Details** \n",
    "- MATCH_ID             * numeric*\n",
    "- MATCH_NUMBER   *numeric pk* \n",
    "- MATCH_DETAIL   *varchar*\n",
    "\n",
    "\n",
    "**Inning_Detais**\n",
    "- INN_ID  *numeric pk*\n",
    "- MATCH_ID *numeric fk*\n",
    "- INN_TYPE *numeric*\n",
    "- TOTAL_NO_OF_OVERS *numeric*\n",
    "\n",
    "**Player_Team_Details**\n",
    "- ID *numeric pk*\n",
    "- TEAM_NAME *varchar*\n",
    "\n",
    "**Pleayer_Details**\n",
    "- PLAYER_ID *numeric pk*\n",
    "- PLAYER_NAME *varchar*\n",
    "- PLAYER_TYPE *numeric*\n",
    "- CURRENT_TEAM *numeric fk*\n",
    "- START_DATE *date*\n",
    "- END_DATE *date*\n",
    "\n",
    "**Match_progress_details**\n",
    "- ID *numeric pk*\n",
    "- MATCH_ID *numeric fk*\n",
    "- INN_ID *numeric fk*\n",
    "- OVER *numeric*\n",
    "- BALL_OUTCOME *numeric*\n",
    "- PLAYER_BOWLING *numeric*\n",
    "- PLAYER_BATTING *numeric*\n",
    "- COMMENTS *varchar*\n"
   ]
  },
  {
   "cell_type": "markdown",
   "metadata": {},
   "source": [
    "#### Q3. The ‘Comments’ column in the dataset is filled with text data. How can you transform this column to perform data analysis? Describe ways in which you can do that and also write a script to perform the transformation.\n"
   ]
  },
  {
   "cell_type": "markdown",
   "metadata": {},
   "source": [
    "the column could be transformed into the vector of words, by using any word embeddings or utilizing feature_extraction.text from sklean to generate word vector for furthur analysis.\n",
    "the example could be seen in below notebook."
   ]
  },
  {
   "cell_type": "markdown",
   "metadata": {},
   "source": [
    "#### Q4. What are the top 5 inferences you can make from this data? (Clue: Make use of the ‘Comments’ column wisely). Also attach the script used to make this inference.\n"
   ]
  },
  {
   "cell_type": "markdown",
   "metadata": {},
   "source": [
    "the inferences could be made are like,\n",
    "1. Most of the outcome of the balls are either 0 or 1\n",
    "2. Some player have played with multiple teams\n",
    "3. Some players have done both batting and balling\n",
    "4. Commets provide how the runs were scored, could be used to analyse the skill of the player\n",
    "5. most of the matches are not played full 20 overs and median is slighly lower than 10 overs"
   ]
  },
  {
   "cell_type": "markdown",
   "metadata": {},
   "source": [
    "#### Q5. The Ball_Outcome column is highly imbalanced. If you were to model the data, describe how you would handle this imbalance. Also write a script that would balance this data for modelling. \n"
   ]
  },
  {
   "cell_type": "markdown",
   "metadata": {},
   "source": [
    "the imbalanced data need to balanced better for generalization of model, else the model will be baised and recall score for model would be less even for high accuracy.\n",
    "Few sampling methods could be used like SMOTE for syntehically generating the low class records, instead of duplicating the same."
   ]
  },
  {
   "cell_type": "markdown",
   "metadata": {},
   "source": [
    "#### Q6. Comment of the columns PlayerTeam_x and PlayerTeam_y. Will the analysis or modelling outcome of this dataset change when these columns are removed?\n"
   ]
  },
  {
   "cell_type": "markdown",
   "metadata": {},
   "source": [
    "analysis yet to be done, but the null hypothesis could be formed that there should not be any effect if the team names are removed"
   ]
  },
  {
   "cell_type": "markdown",
   "metadata": {},
   "source": [
    "#### Q7. What would be the modelling technique you’d chose for this dataset? Also touch upon the rationale behind your decision and the use cases where you’re modelling technique will fail for this dataset.\n"
   ]
  },
  {
   "cell_type": "markdown",
   "metadata": {},
   "source": [
    "the modeling techinique could be choosed as multi class logistic regression, as the data have multiple class and size of data could be huge. if subset of data is anaysised, the multi class SVM approach (one vs one or one vs rest) could be used for classification and prediction."
   ]
  },
  {
   "cell_type": "code",
   "execution_count": 1,
   "metadata": {
    "collapsed": true,
    "deletable": true,
    "editable": true
   },
   "outputs": [],
   "source": [
    "import pandas as pd\n",
    "import numpy as np\n",
    "import matplotlib.mlab as mlab\n",
    "import matplotlib.pyplot as plt\n",
    "%matplotlib inline"
   ]
  },
  {
   "cell_type": "code",
   "execution_count": 2,
   "metadata": {
    "collapsed": false,
    "deletable": true,
    "editable": true
   },
   "outputs": [
    {
     "data": {
      "text/html": [
       "<div>\n",
       "<table border=\"1\" class=\"dataframe\">\n",
       "  <thead>\n",
       "    <tr style=\"text-align: right;\">\n",
       "      <th></th>\n",
       "      <th>Match_Number</th>\n",
       "      <th>Over</th>\n",
       "      <th>InningsType</th>\n",
       "      <th>Ball_Outcome</th>\n",
       "      <th>PlayerName_x</th>\n",
       "      <th>PlayerTeam_x</th>\n",
       "      <th>PlayerName_y</th>\n",
       "      <th>PlayerTeam_y</th>\n",
       "      <th>Comments</th>\n",
       "    </tr>\n",
       "  </thead>\n",
       "  <tbody>\n",
       "    <tr>\n",
       "      <th>0</th>\n",
       "      <td>335982</td>\n",
       "      <td>0.1</td>\n",
       "      <td>1</td>\n",
       "      <td>8</td>\n",
       "      <td>SC Ganguly</td>\n",
       "      <td>Kolkata Knight Riders</td>\n",
       "      <td>P Kumar</td>\n",
       "      <td>Royal Challengers Bangalore</td>\n",
       "      <td>and thats runs immediately as Praveen strays o...</td>\n",
       "    </tr>\n",
       "    <tr>\n",
       "      <th>1</th>\n",
       "      <td>335982</td>\n",
       "      <td>0.2</td>\n",
       "      <td>1</td>\n",
       "      <td>0</td>\n",
       "      <td>BB McCullum</td>\n",
       "      <td>Kolkata Knight Riders</td>\n",
       "      <td>P Kumar</td>\n",
       "      <td>Royal Challengers Bangalore</td>\n",
       "      <td>this one nips back in off the pitch very sharp...</td>\n",
       "    </tr>\n",
       "    <tr>\n",
       "      <th>2</th>\n",
       "      <td>335982</td>\n",
       "      <td>0.3</td>\n",
       "      <td>1</td>\n",
       "      <td>9</td>\n",
       "      <td>BB McCullum</td>\n",
       "      <td>Kolkata Knight Riders</td>\n",
       "      <td>P Kumar</td>\n",
       "      <td>Royal Challengers Bangalore</td>\n",
       "      <td>thats wide as Praveen bowls one down the legs</td>\n",
       "    </tr>\n",
       "  </tbody>\n",
       "</table>\n",
       "</div>"
      ],
      "text/plain": [
       "   Match_Number  Over  InningsType  Ball_Outcome PlayerName_x  \\\n",
       "0        335982   0.1            1             8   SC Ganguly   \n",
       "1        335982   0.2            1             0  BB McCullum   \n",
       "2        335982   0.3            1             9  BB McCullum   \n",
       "\n",
       "            PlayerTeam_x PlayerName_y                 PlayerTeam_y  \\\n",
       "0  Kolkata Knight Riders      P Kumar  Royal Challengers Bangalore   \n",
       "1  Kolkata Knight Riders      P Kumar  Royal Challengers Bangalore   \n",
       "2  Kolkata Knight Riders      P Kumar  Royal Challengers Bangalore   \n",
       "\n",
       "                                            Comments  \n",
       "0  and thats runs immediately as Praveen strays o...  \n",
       "1  this one nips back in off the pitch very sharp...  \n",
       "2      thats wide as Praveen bowls one down the legs  "
      ]
     },
     "execution_count": 2,
     "metadata": {},
     "output_type": "execute_result"
    }
   ],
   "source": [
    "df = pd.read_csv(\"IPLSlicedData.csv\")\n",
    "df.head(3)"
   ]
  },
  {
   "cell_type": "code",
   "execution_count": 3,
   "metadata": {
    "collapsed": false,
    "deletable": true,
    "editable": true
   },
   "outputs": [
    {
     "data": {
      "text/plain": [
       "<matplotlib.axes._subplots.AxesSubplot at 0x119516438>"
      ]
     },
     "execution_count": 3,
     "metadata": {},
     "output_type": "execute_result"
    },
    {
     "data": {
      "image/png": "[encoded data removed]",
      "text/plain": [
       "<matplotlib.figure.Figure at 0x114f687f0>"
      ]
     },
     "metadata": {},
     "output_type": "display_data"
    }
   ],
   "source": [
    "#df[\"Over\"].hist( bins=10)\n",
    "#df[\"Ball_Outcome\"].hist( bins=10)\n",
    "df.boxplot(column='Over')"
   ]
  },
  {
   "cell_type": "code",
   "execution_count": 4,
   "metadata": {
    "collapsed": false,
    "deletable": true,
    "editable": true
   },
   "outputs": [
    {
     "name": "stdout",
     "output_type": "stream",
     "text": [
      "histogram\n"
     ]
    },
    {
     "data": {
      "image/png": "[encoded data removed]",
      "text/plain": [
       "<matplotlib.figure.Figure at 0x10d7c1f28>"
      ]
     },
     "metadata": {},
     "output_type": "display_data"
    }
   ],
   "source": [
    "plt.hist(df[\"Ball_Outcome\"])\n",
    "print(\"histogram\")"
   ]
  },
  {
   "cell_type": "markdown",
   "metadata": {
    "deletable": true,
    "editable": true
   },
   "source": [
    "It can be seen that, the data for ball outcome is higly unbalanced, need to do some sampling like SMOTE to increase the counts of low numbered classes"
   ]
  },
  {
   "cell_type": "code",
   "execution_count": 5,
   "metadata": {
    "collapsed": false,
    "deletable": true,
    "editable": true
   },
   "outputs": [
    {
     "data": {
      "text/plain": [
       "Match_Number      0\n",
       "Over              0\n",
       "InningsType       0\n",
       "Ball_Outcome      0\n",
       "PlayerName_x      0\n",
       "PlayerTeam_x    191\n",
       "PlayerName_y      0\n",
       "PlayerTeam_y    191\n",
       "Comments          0\n",
       "dtype: int64"
      ]
     },
     "execution_count": 5,
     "metadata": {},
     "output_type": "execute_result"
    }
   ],
   "source": [
    "df.apply(lambda x: sum(x.isnull()),axis=0) "
   ]
  },
  {
   "cell_type": "markdown",
   "metadata": {
    "deletable": true,
    "editable": true
   },
   "source": [
    "Also, some of the records have missing data, for PlayerTeam_x and PlayerTeam_y "
   ]
  },
  {
   "cell_type": "code",
   "execution_count": 6,
   "metadata": {
    "collapsed": false,
    "deletable": true,
    "editable": true
   },
   "outputs": [
    {
     "data": {
      "text/plain": [
       "1     49799\n",
       "0     42259\n",
       "4     15295\n",
       "2      8796\n",
       "10     6438\n",
       "6      5764\n",
       "9      4729\n",
       "8      2736\n",
       "3       473\n",
       "5        42\n",
       "Name: Ball_Outcome, dtype: int64"
      ]
     },
     "execution_count": 6,
     "metadata": {},
     "output_type": "execute_result"
    }
   ],
   "source": [
    "df[\"Ball_Outcome\"].value_counts()"
   ]
  },
  {
   "cell_type": "code",
   "execution_count": 7,
   "metadata": {
    "collapsed": false,
    "deletable": true,
    "editable": true
   },
   "outputs": [],
   "source": [
    "from collections import Counter\n",
    "from imblearn.over_sampling import SMOTE \n",
    "from sklearn.model_selection import train_test_split\n",
    "from sklearn.metrics import recall_score"
   ]
  },
  {
   "cell_type": "code",
   "execution_count": 8,
   "metadata": {
    "collapsed": false,
    "deletable": true,
    "editable": true
   },
   "outputs": [],
   "source": [
    "\n",
    "df_relevant_enconded = pd.get_dummies(df.drop(['Comments'], axis=1))"
   ]
  },
  {
   "cell_type": "code",
   "execution_count": 9,
   "metadata": {
    "collapsed": false,
    "deletable": true,
    "editable": true
   },
   "outputs": [
    {
     "data": {
      "text/html": [
       "<div>\n",
       "<table border=\"1\" class=\"dataframe\">\n",
       "  <thead>\n",
       "    <tr style=\"text-align: right;\">\n",
       "      <th></th>\n",
       "      <th>Match_Number</th>\n",
       "      <th>Over</th>\n",
       "      <th>InningsType</th>\n",
       "      <th>Ball_Outcome</th>\n",
       "      <th>PlayerName_x_A Ashish Reddy</th>\n",
       "      <th>PlayerName_x_A Chandila</th>\n",
       "      <th>PlayerName_x_A Chopra</th>\n",
       "      <th>PlayerName_x_A Flintoff</th>\n",
       "      <th>PlayerName_x_A Kumble</th>\n",
       "      <th>PlayerName_x_A Mishra</th>\n",
       "      <th>...</th>\n",
       "      <th>PlayerTeam_y_Gujarat Lions</th>\n",
       "      <th>PlayerTeam_y_Kings XI Punjab</th>\n",
       "      <th>PlayerTeam_y_Kochi Tuskers Kerala</th>\n",
       "      <th>PlayerTeam_y_Kolkata Knight Riders</th>\n",
       "      <th>PlayerTeam_y_Mumbai Indians</th>\n",
       "      <th>PlayerTeam_y_Pune Warriors</th>\n",
       "      <th>PlayerTeam_y_Rajasthan Royals</th>\n",
       "      <th>PlayerTeam_y_Rising Pune Supergiants</th>\n",
       "      <th>PlayerTeam_y_Royal Challengers Bangalore</th>\n",
       "      <th>PlayerTeam_y_Sunrisers Hyderabad</th>\n",
       "    </tr>\n",
       "  </thead>\n",
       "  <tbody>\n",
       "    <tr>\n",
       "      <th>0</th>\n",
       "      <td>335982</td>\n",
       "      <td>0.1</td>\n",
       "      <td>1</td>\n",
       "      <td>8</td>\n",
       "      <td>0</td>\n",
       "      <td>0</td>\n",
       "      <td>0</td>\n",
       "      <td>0</td>\n",
       "      <td>0</td>\n",
       "      <td>0</td>\n",
       "      <td>...</td>\n",
       "      <td>0</td>\n",
       "      <td>0</td>\n",
       "      <td>0</td>\n",
       "      <td>0</td>\n",
       "      <td>0</td>\n",
       "      <td>0</td>\n",
       "      <td>0</td>\n",
       "      <td>0</td>\n",
       "      <td>1</td>\n",
       "      <td>0</td>\n",
       "    </tr>\n",
       "    <tr>\n",
       "      <th>1</th>\n",
       "      <td>335982</td>\n",
       "      <td>0.2</td>\n",
       "      <td>1</td>\n",
       "      <td>0</td>\n",
       "      <td>0</td>\n",
       "      <td>0</td>\n",
       "      <td>0</td>\n",
       "      <td>0</td>\n",
       "      <td>0</td>\n",
       "      <td>0</td>\n",
       "      <td>...</td>\n",
       "      <td>0</td>\n",
       "      <td>0</td>\n",
       "      <td>0</td>\n",
       "      <td>0</td>\n",
       "      <td>0</td>\n",
       "      <td>0</td>\n",
       "      <td>0</td>\n",
       "      <td>0</td>\n",
       "      <td>1</td>\n",
       "      <td>0</td>\n",
       "    </tr>\n",
       "    <tr>\n",
       "      <th>2</th>\n",
       "      <td>335982</td>\n",
       "      <td>0.3</td>\n",
       "      <td>1</td>\n",
       "      <td>9</td>\n",
       "      <td>0</td>\n",
       "      <td>0</td>\n",
       "      <td>0</td>\n",
       "      <td>0</td>\n",
       "      <td>0</td>\n",
       "      <td>0</td>\n",
       "      <td>...</td>\n",
       "      <td>0</td>\n",
       "      <td>0</td>\n",
       "      <td>0</td>\n",
       "      <td>0</td>\n",
       "      <td>0</td>\n",
       "      <td>0</td>\n",
       "      <td>0</td>\n",
       "      <td>0</td>\n",
       "      <td>1</td>\n",
       "      <td>0</td>\n",
       "    </tr>\n",
       "  </tbody>\n",
       "</table>\n",
       "<p>3 rows × 796 columns</p>\n",
       "</div>"
      ],
      "text/plain": [
       "   Match_Number  Over  InningsType  Ball_Outcome  PlayerName_x_A Ashish Reddy  \\\n",
       "0        335982   0.1            1             8                            0   \n",
       "1        335982   0.2            1             0                            0   \n",
       "2        335982   0.3            1             9                            0   \n",
       "\n",
       "   PlayerName_x_A Chandila  PlayerName_x_A Chopra  PlayerName_x_A Flintoff  \\\n",
       "0                        0                      0                        0   \n",
       "1                        0                      0                        0   \n",
       "2                        0                      0                        0   \n",
       "\n",
       "   PlayerName_x_A Kumble  PlayerName_x_A Mishra  \\\n",
       "0                      0                      0   \n",
       "1                      0                      0   \n",
       "2                      0                      0   \n",
       "\n",
       "                 ...                 PlayerTeam_y_Gujarat Lions  \\\n",
       "0                ...                                          0   \n",
       "1                ...                                          0   \n",
       "2                ...                                          0   \n",
       "\n",
       "   PlayerTeam_y_Kings XI Punjab  PlayerTeam_y_Kochi Tuskers Kerala  \\\n",
       "0                             0                                  0   \n",
       "1                             0                                  0   \n",
       "2                             0                                  0   \n",
       "\n",
       "   PlayerTeam_y_Kolkata Knight Riders  PlayerTeam_y_Mumbai Indians  \\\n",
       "0                                   0                            0   \n",
       "1                                   0                            0   \n",
       "2                                   0                            0   \n",
       "\n",
       "   PlayerTeam_y_Pune Warriors  PlayerTeam_y_Rajasthan Royals  \\\n",
       "0                           0                              0   \n",
       "1                           0                              0   \n",
       "2                           0                              0   \n",
       "\n",
       "   PlayerTeam_y_Rising Pune Supergiants  \\\n",
       "0                                     0   \n",
       "1                                     0   \n",
       "2                                     0   \n",
       "\n",
       "   PlayerTeam_y_Royal Challengers Bangalore  PlayerTeam_y_Sunrisers Hyderabad  \n",
       "0                                         1                                 0  \n",
       "1                                         1                                 0  \n",
       "2                                         1                                 0  \n",
       "\n",
       "[3 rows x 796 columns]"
      ]
     },
     "execution_count": 9,
     "metadata": {},
     "output_type": "execute_result"
    }
   ],
   "source": [
    "df_relevant_enconded.head(3)"
   ]
  },
  {
   "cell_type": "code",
   "execution_count": null,
   "metadata": {
    "collapsed": false
   },
   "outputs": [
    {
     "name": "stdout",
     "output_type": "stream",
     "text": [
      "At vectorizer\n"
     ]
    }
   ],
   "source": [
    "from sklearn.feature_extraction.text import TfidfVectorizer\n",
    "print('At vectorizer')\n",
    "vectorizer = TfidfVectorizer()\n",
    "vectorized_comments = vectorizer.fit_transform(df['Comments'])\n"
   ]
  },
  {
   "cell_type": "code",
   "execution_count": null,
   "metadata": {
    "collapsed": false
   },
   "outputs": [
    {
     "name": "stdout",
     "output_type": "stream",
     "text": [
      "(136331, 9)\n",
      "(136331, 14028)\n"
     ]
    }
   ],
   "source": [
    "print(df.shape)\n",
    "print(vectorized_comments.shape)\n",
    "#vectorized_comments\n",
    "df2 = pd.SparseDataFrame(vectorized_comments.toarray())"
   ]
  },
  {
   "cell_type": "code",
   "execution_count": 10,
   "metadata": {
    "collapsed": false
   },
   "outputs": [],
   "source": [
    "#df3 = pd.concat([df, vectorized_comments], axis=1)\n",
    "#print(df3.shape)"
   ]
  },
  {
   "cell_type": "code",
   "execution_count": 11,
   "metadata": {
    "collapsed": false
   },
   "outputs": [],
   "source": [
    "x_train, x_val, y_train, y_val = train_test_split(df_relevant_enconded.drop('Ball_Outcome', axis=1), df_relevant_enconded['Ball_Outcome'],\n",
    "                                                  test_size = .2,\n",
    "                                                  random_state=12)"
   ]
  },
  {
   "cell_type": "code",
   "execution_count": 12,
   "metadata": {
    "collapsed": false
   },
   "outputs": [
    {
     "name": "stdout",
     "output_type": "stream",
     "text": [
      "x_train (109064, 795)\n",
      "y_train (109064,)\n",
      "x_val (27267, 795)\n",
      "y_val (27267,)\n"
     ]
    }
   ],
   "source": [
    "print(\"x_train\",x_train.shape)\n",
    "print(\"y_train\",y_train.shape)\n",
    "print(\"x_val\",x_val.shape)\n",
    "print(\"y_val\",y_val.shape)"
   ]
  },
  {
   "cell_type": "code",
   "execution_count": 13,
   "metadata": {
    "collapsed": false
   },
   "outputs": [
    {
     "name": "stderr",
     "output_type": "stream",
     "text": [
      "/usr/local/anaconda3/envs/aind/lib/python3.6/site-packages/imblearn/base.py:306: UserWarning: The target type should be binary.\n",
      "  warnings.warn('The target type should be binary.')\n"
     ]
    }
   ],
   "source": [
    "sm = SMOTE(random_state=12, ratio = 1.0)\n",
    "x_train_res, y_train_res = sm.fit_sample(x_train, y_train)"
   ]
  },
  {
   "cell_type": "code",
   "execution_count": 14,
   "metadata": {
    "collapsed": false
   },
   "outputs": [
    {
     "name": "stdout",
     "output_type": "stream",
     "text": [
      "x_train_res (148841, 795)\n",
      "y_train_res (148841,)\n"
     ]
    }
   ],
   "source": [
    "print(\"x_train_res\",x_train_res.shape)\n",
    "print(\"y_train_res\",y_train_res.shape)"
   ]
  },
  {
   "cell_type": "code",
   "execution_count": 15,
   "metadata": {
    "collapsed": false
   },
   "outputs": [
    {
     "data": {
      "text/plain": [
       "LogisticRegression(C=100000.0, class_weight=None, dual=False,\n",
       "          fit_intercept=True, intercept_scaling=1, max_iter=100,\n",
       "          multi_class='ovr', n_jobs=1, penalty='l2', random_state=None,\n",
       "          solver='liblinear', tol=0.0001, verbose=0, warm_start=False)"
      ]
     },
     "execution_count": 15,
     "metadata": {},
     "output_type": "execute_result"
    }
   ],
   "source": [
    "#from sklearn.multiclass import OneVsRestClassifier\n",
    "#from sklearn.svm import SVC\n",
    "\n",
    "#classif = OneVsRestClassifier(SVC(kernel='linear'))\n",
    "#classif.fit(x_train_res, y_train_res)\n",
    " \n",
    "    \n",
    "from sklearn import linear_model   \n",
    "logreg = linear_model.LogisticRegression(C=1e5)\n",
    "logreg.fit(x_train_res, y_train_res)"
   ]
  },
  {
   "cell_type": "code",
   "execution_count": 16,
   "metadata": {
    "collapsed": false
   },
   "outputs": [
    {
     "name": "stdout",
     "output_type": "stream",
     "text": [
      "Validation Results\n",
      "0.366413613526\n",
      "[[   0 8372    0    0    0    0    0    0    0    0]\n",
      " [   0 9991    0    0    0    0    0    0    0    0]\n",
      " [   0 1798    0    0    0    0    0    0    0    0]\n",
      " [   0   92    0    0    0    0    0    0    0    0]\n",
      " [   0 3099    0    0    0    0    0    0    0    0]\n",
      " [   0   11    0    0    0    0    0    0    0    0]\n",
      " [   0 1139    0    0    0    0    0    0    0    0]\n",
      " [   0  546    0    0    0    0    0    0    0    0]\n",
      " [   0  953    0    0    0    0    0    0    0    0]\n",
      " [   0 1266    0    0    0    0    0    0    0    0]]\n"
     ]
    }
   ],
   "source": [
    "from sklearn.metrics import confusion_matrix\n",
    "print('Validation Results')\n",
    "print(logreg.score(x_val, y_val))\n",
    "print(confusion_matrix(y_val, logreg.predict(x_val)))\n",
    "#print('\\nTest Results')\n",
    "#print(logreg.score(test_features, test_target))\n",
    "#print(recall_score(test_target, logreg.predict(test_features)))"
   ]
  }
 ],
 "metadata": {
  "kernelspec": {
   "display_name": "Python 3",
   "language": "python",
   "name": "python3"
  },
  "language_info": {
   "codemirror_mode": {
    "name": "ipython",
    "version": 3
   },
   "file_extension": ".py",
   "mimetype": "text/x-python",
   "name": "python",
   "nbconvert_exporter": "python",
   "pygments_lexer": "ipython3",
   "version": "3.6.0"
  }
 },
 "nbformat": 4,
 "nbformat_minor": 2
}
